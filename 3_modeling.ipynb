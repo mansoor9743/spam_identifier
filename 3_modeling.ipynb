{
 "cells": [
  {
   "cell_type": "markdown",
   "metadata": {},
   "source": [
    "# Testing Multiple classifiers."
   ]
  },
  {
   "cell_type": "code",
   "execution_count": 1,
   "metadata": {},
   "outputs": [],
   "source": [
    "import numpy as np \n",
    "import pandas as pd \n",
    "import matplotlib.pyplot as plt\n",
    "%matplotlib inline\n",
    "import seaborn as sns\n",
    "\n",
    "from sklearn.tree import DecisionTreeClassifier, export_graphviz\n",
    "from sklearn.linear_model import LogisticRegression\n",
    "from sklearn.model_selection import train_test_split\n",
    "from sklearn.decomposition import PCA\n",
    "from sklearn.preprocessing import LabelEncoder\n",
    "from sklearn.model_selection import cross_val_score\n",
    "from sklearn.linear_model import LogisticRegression\n",
    "from sklearn.model_selection import GridSearchCV\n",
    "from sklearn.ensemble import RandomForestClassifier\n",
    "from sklearn.naive_bayes import GaussianNB\n",
    "from sklearn.ensemble import GradientBoostingClassifier\n",
    "from sklearn.neighbors import KNeighborsClassifier\n",
    "from sklearn.neural_network import MLPClassifier\n",
    "from sklearn import tree\n",
    "from sklearn.svm import SVC\n",
    "from sklearn.metrics import accuracy_score, f1_score, precision_score, recall_score, classification_report, confusion_matrix\n",
    "from sklearn.metrics import precision_recall_curve, auc, roc_curve\n",
    "from sklearn import feature_selection\n",
    "import warnings\n",
    "warnings.filterwarnings('ignore')\n",
    "import graphviz\n",
    "import pydotplus\n",
    "import time\n",
    "import pickle\n",
    "from IPython.display import display"
   ]
  },
  {
   "cell_type": "code",
   "execution_count": 2,
   "metadata": {},
   "outputs": [],
   "source": [
    "# preprocessed training dataset\n",
    "df_test = pd.read_csv('df_test_30_11.csv')"
   ]
  },
  {
   "cell_type": "code",
   "execution_count": 3,
   "metadata": {},
   "outputs": [
    {
     "data": {
      "text/plain": [
       "(4856, 39)"
      ]
     },
     "execution_count": 3,
     "metadata": {},
     "output_type": "execute_result"
    }
   ],
   "source": [
    "df_test.shape"
   ]
  },
  {
   "cell_type": "code",
   "execution_count": 4,
   "metadata": {},
   "outputs": [],
   "source": [
    "#preprocessed test dataset\n",
    "df_train=pd.read_csv('df_train_30_11.csv')"
   ]
  },
  {
   "cell_type": "code",
   "execution_count": 5,
   "metadata": {},
   "outputs": [
    {
     "data": {
      "text/plain": [
       "(24286, 39)"
      ]
     },
     "execution_count": 5,
     "metadata": {},
     "output_type": "execute_result"
    }
   ],
   "source": [
    "df_train.shape"
   ]
  },
  {
   "cell_type": "code",
   "execution_count": 6,
   "metadata": {},
   "outputs": [],
   "source": [
    "#combining both train and test preprocessed dataset\n",
    "df_ri=pd.concat([df_train,df_test])"
   ]
  },
  {
   "cell_type": "code",
   "execution_count": 7,
   "metadata": {},
   "outputs": [
    {
     "data": {
      "text/html": [
       "<div>\n",
       "<style scoped>\n",
       "    .dataframe tbody tr th:only-of-type {\n",
       "        vertical-align: middle;\n",
       "    }\n",
       "\n",
       "    .dataframe tbody tr th {\n",
       "        vertical-align: top;\n",
       "    }\n",
       "\n",
       "    .dataframe thead th {\n",
       "        text-align: right;\n",
       "    }\n",
       "</style>\n",
       "<table border=\"1\" class=\"dataframe\">\n",
       "  <thead>\n",
       "    <tr style=\"text-align: right;\">\n",
       "      <th></th>\n",
       "      <th>Sentiment</th>\n",
       "      <th>Country</th>\n",
       "      <th>Account.Type</th>\n",
       "      <th>Engagement.Score</th>\n",
       "      <th>Gender</th>\n",
       "      <th>Impact</th>\n",
       "      <th>Impressions</th>\n",
       "      <th>Kred.Influence</th>\n",
       "      <th>Kred.Outreach</th>\n",
       "      <th>Reach</th>\n",
       "      <th>...</th>\n",
       "      <th>links_twitter</th>\n",
       "      <th>links_youtube</th>\n",
       "      <th>links_facebook</th>\n",
       "      <th>links_instagram</th>\n",
       "      <th>links_other</th>\n",
       "      <th>word_sex</th>\n",
       "      <th>word_good</th>\n",
       "      <th>word_woman</th>\n",
       "      <th>word_new</th>\n",
       "      <th>word_like</th>\n",
       "    </tr>\n",
       "  </thead>\n",
       "  <tbody>\n",
       "    <tr>\n",
       "      <th>0</th>\n",
       "      <td>neutral</td>\n",
       "      <td>United Kingdom</td>\n",
       "      <td>individual</td>\n",
       "      <td>0.000000</td>\n",
       "      <td>unknown</td>\n",
       "      <td>50</td>\n",
       "      <td>147</td>\n",
       "      <td>744</td>\n",
       "      <td>7</td>\n",
       "      <td>744</td>\n",
       "      <td>...</td>\n",
       "      <td>False</td>\n",
       "      <td>False</td>\n",
       "      <td>False</td>\n",
       "      <td>False</td>\n",
       "      <td>False</td>\n",
       "      <td>False</td>\n",
       "      <td>False</td>\n",
       "      <td>False</td>\n",
       "      <td>False</td>\n",
       "      <td>False</td>\n",
       "    </tr>\n",
       "    <tr>\n",
       "      <th>1</th>\n",
       "      <td>negative</td>\n",
       "      <td>United Kingdom</td>\n",
       "      <td>individual</td>\n",
       "      <td>1.033732</td>\n",
       "      <td>male</td>\n",
       "      <td>63</td>\n",
       "      <td>16005</td>\n",
       "      <td>876</td>\n",
       "      <td>9</td>\n",
       "      <td>9959</td>\n",
       "      <td>...</td>\n",
       "      <td>False</td>\n",
       "      <td>False</td>\n",
       "      <td>False</td>\n",
       "      <td>False</td>\n",
       "      <td>False</td>\n",
       "      <td>False</td>\n",
       "      <td>False</td>\n",
       "      <td>False</td>\n",
       "      <td>False</td>\n",
       "      <td>False</td>\n",
       "    </tr>\n",
       "  </tbody>\n",
       "</table>\n",
       "<p>2 rows × 39 columns</p>\n",
       "</div>"
      ],
      "text/plain": [
       "  Sentiment         Country Account.Type  Engagement.Score   Gender  Impact  \\\n",
       "0   neutral  United Kingdom   individual          0.000000  unknown      50   \n",
       "1  negative  United Kingdom   individual          1.033732     male      63   \n",
       "\n",
       "   Impressions  Kred.Influence  Kred.Outreach  Reach    ...     links_twitter  \\\n",
       "0          147             744              7    744    ...             False   \n",
       "1        16005             876              9   9959    ...             False   \n",
       "\n",
       "   links_youtube  links_facebook  links_instagram  links_other  word_sex  \\\n",
       "0          False           False            False        False     False   \n",
       "1          False           False            False        False     False   \n",
       "\n",
       "   word_good  word_woman  word_new  word_like  \n",
       "0      False       False     False      False  \n",
       "1      False       False     False      False  \n",
       "\n",
       "[2 rows x 39 columns]"
      ]
     },
     "execution_count": 7,
     "metadata": {},
     "output_type": "execute_result"
    }
   ],
   "source": [
    "df_ri.head(2)"
   ]
  },
  {
   "cell_type": "code",
   "execution_count": 8,
   "metadata": {},
   "outputs": [
    {
     "data": {
      "text/plain": [
       "(29142, 39)"
      ]
     },
     "execution_count": 8,
     "metadata": {},
     "output_type": "execute_result"
    }
   ],
   "source": [
    "df_ri.shape"
   ]
  },
  {
   "cell_type": "code",
   "execution_count": 9,
   "metadata": {},
   "outputs": [
    {
     "name": "stdout",
     "output_type": "stream",
     "text": [
      "Class 0: 14571\n",
      "Class 1: 14571\n",
      "Proportion: 1.0 : 1\n"
     ]
    },
    {
     "data": {
      "image/png": "[encoded data removed]",
      "text/plain": [
       "<Figure size 432x288 with 1 Axes>"
      ]
     },
     "metadata": {
      "needs_background": "light"
     },
     "output_type": "display_data"
    }
   ],
   "source": [
    "# checking for class imbalance\n",
    "target_count = df_ri.spam.value_counts()\n",
    "print('Class 0:', target_count[0])\n",
    "print('Class 1:', target_count[1])\n",
    "print('Proportion:', round(target_count[0] / target_count[1], 2), ': 1')\n",
    "\n",
    "target_count.plot(kind='bar', title='Count (target)');"
   ]
  },
  {
   "cell_type": "code",
   "execution_count": 10,
   "metadata": {},
   "outputs": [],
   "source": [
    "labelencoder = LabelEncoder()"
   ]
  },
  {
   "cell_type": "code",
   "execution_count": 11,
   "metadata": {},
   "outputs": [],
   "source": [
    "# label encoding the following :Sentiment Country Account.Type Gender Thread.Entry.Type Twitter.Verified name_2_w\n",
    "# links_twitter links_youtube links_facebook links_instagram links_other word_sex\n",
    "#word_good word_woman word_new word_like"
   ]
  },
  {
   "cell_type": "code",
   "execution_count": 12,
   "metadata": {},
   "outputs": [],
   "source": [
    "df_ri['Sentiment'] = labelencoder.fit_transform(df_ri['Sentiment'])"
   ]
  },
  {
   "cell_type": "code",
   "execution_count": 13,
   "metadata": {},
   "outputs": [],
   "source": [
    "df_ri['Country'] = labelencoder.fit_transform(df_ri['Country'])"
   ]
  },
  {
   "cell_type": "code",
   "execution_count": 14,
   "metadata": {},
   "outputs": [],
   "source": [
    "df_ri['Account.Type'] = labelencoder.fit_transform(df_ri['Account.Type'])"
   ]
  },
  {
   "cell_type": "code",
   "execution_count": 15,
   "metadata": {},
   "outputs": [],
   "source": [
    "df_ri['Gender'] = labelencoder.fit_transform(df_ri['Gender'])"
   ]
  },
  {
   "cell_type": "code",
   "execution_count": 16,
   "metadata": {},
   "outputs": [],
   "source": [
    "df_ri['Thread.Entry.Type'] = labelencoder.fit_transform(df_ri['Thread.Entry.Type'])"
   ]
  },
  {
   "cell_type": "code",
   "execution_count": 17,
   "metadata": {},
   "outputs": [],
   "source": [
    "df_ri['Twitter.Verified'] = labelencoder.fit_transform(df_ri['Twitter.Verified'])"
   ]
  },
  {
   "cell_type": "code",
   "execution_count": 18,
   "metadata": {},
   "outputs": [],
   "source": [
    "df_ri['name_2_w'] = labelencoder.fit_transform(df_ri['name_2_w'])"
   ]
  },
  {
   "cell_type": "code",
   "execution_count": 19,
   "metadata": {},
   "outputs": [],
   "source": [
    "df_ri['links_twitter'] = labelencoder.fit_transform(df_ri['links_twitter'])"
   ]
  },
  {
   "cell_type": "code",
   "execution_count": 20,
   "metadata": {},
   "outputs": [],
   "source": [
    "df_ri['links_youtube'] = labelencoder.fit_transform(df_ri['links_youtube'])"
   ]
  },
  {
   "cell_type": "code",
   "execution_count": 21,
   "metadata": {},
   "outputs": [],
   "source": [
    "df_ri['links_facebook'] = labelencoder.fit_transform(df_ri['links_facebook'])"
   ]
  },
  {
   "cell_type": "code",
   "execution_count": 22,
   "metadata": {},
   "outputs": [],
   "source": [
    "df_ri['links_instagram'] = labelencoder.fit_transform(df_ri['links_instagram'])"
   ]
  },
  {
   "cell_type": "code",
   "execution_count": 23,
   "metadata": {},
   "outputs": [],
   "source": [
    "df_ri['links_other'] = labelencoder.fit_transform(df_ri['links_other'])"
   ]
  },
  {
   "cell_type": "code",
   "execution_count": 24,
   "metadata": {},
   "outputs": [],
   "source": [
    "df_ri['word_sex'] = labelencoder.fit_transform(df_ri['word_sex'])"
   ]
  },
  {
   "cell_type": "code",
   "execution_count": 25,
   "metadata": {},
   "outputs": [],
   "source": [
    "df_ri['word_good'] = labelencoder.fit_transform(df_ri['word_good'])"
   ]
  },
  {
   "cell_type": "code",
   "execution_count": 26,
   "metadata": {},
   "outputs": [],
   "source": [
    "df_ri['word_woman'] = labelencoder.fit_transform(df_ri['word_woman'])"
   ]
  },
  {
   "cell_type": "code",
   "execution_count": 27,
   "metadata": {},
   "outputs": [],
   "source": [
    "df_ri['word_new'] = labelencoder.fit_transform(df_ri['word_new'])"
   ]
  },
  {
   "cell_type": "code",
   "execution_count": 28,
   "metadata": {},
   "outputs": [],
   "source": [
    "df_ri['word_like'] = labelencoder.fit_transform(df_ri['word_like'])"
   ]
  },
  {
   "cell_type": "code",
   "execution_count": 29,
   "metadata": {},
   "outputs": [
    {
     "data": {
      "text/html": [
       "<div>\n",
       "<style scoped>\n",
       "    .dataframe tbody tr th:only-of-type {\n",
       "        vertical-align: middle;\n",
       "    }\n",
       "\n",
       "    .dataframe tbody tr th {\n",
       "        vertical-align: top;\n",
       "    }\n",
       "\n",
       "    .dataframe thead th {\n",
       "        text-align: right;\n",
       "    }\n",
       "</style>\n",
       "<table border=\"1\" class=\"dataframe\">\n",
       "  <thead>\n",
       "    <tr style=\"text-align: right;\">\n",
       "      <th></th>\n",
       "      <th>Sentiment</th>\n",
       "      <th>Country</th>\n",
       "      <th>Account.Type</th>\n",
       "      <th>Engagement.Score</th>\n",
       "      <th>Gender</th>\n",
       "      <th>Impact</th>\n",
       "      <th>Impressions</th>\n",
       "      <th>Kred.Influence</th>\n",
       "      <th>Kred.Outreach</th>\n",
       "      <th>Reach</th>\n",
       "      <th>...</th>\n",
       "      <th>links_twitter</th>\n",
       "      <th>links_youtube</th>\n",
       "      <th>links_facebook</th>\n",
       "      <th>links_instagram</th>\n",
       "      <th>links_other</th>\n",
       "      <th>word_sex</th>\n",
       "      <th>word_good</th>\n",
       "      <th>word_woman</th>\n",
       "      <th>word_new</th>\n",
       "      <th>word_like</th>\n",
       "    </tr>\n",
       "  </thead>\n",
       "  <tbody>\n",
       "    <tr>\n",
       "      <th>0</th>\n",
       "      <td>1</td>\n",
       "      <td>125</td>\n",
       "      <td>0</td>\n",
       "      <td>0.000000</td>\n",
       "      <td>2</td>\n",
       "      <td>50</td>\n",
       "      <td>147</td>\n",
       "      <td>744</td>\n",
       "      <td>7</td>\n",
       "      <td>744</td>\n",
       "      <td>...</td>\n",
       "      <td>0</td>\n",
       "      <td>0</td>\n",
       "      <td>0</td>\n",
       "      <td>0</td>\n",
       "      <td>0</td>\n",
       "      <td>0</td>\n",
       "      <td>0</td>\n",
       "      <td>0</td>\n",
       "      <td>0</td>\n",
       "      <td>0</td>\n",
       "    </tr>\n",
       "    <tr>\n",
       "      <th>1</th>\n",
       "      <td>0</td>\n",
       "      <td>125</td>\n",
       "      <td>0</td>\n",
       "      <td>1.033732</td>\n",
       "      <td>1</td>\n",
       "      <td>63</td>\n",
       "      <td>16005</td>\n",
       "      <td>876</td>\n",
       "      <td>9</td>\n",
       "      <td>9959</td>\n",
       "      <td>...</td>\n",
       "      <td>0</td>\n",
       "      <td>0</td>\n",
       "      <td>0</td>\n",
       "      <td>0</td>\n",
       "      <td>0</td>\n",
       "      <td>0</td>\n",
       "      <td>0</td>\n",
       "      <td>0</td>\n",
       "      <td>0</td>\n",
       "      <td>0</td>\n",
       "    </tr>\n",
       "  </tbody>\n",
       "</table>\n",
       "<p>2 rows × 39 columns</p>\n",
       "</div>"
      ],
      "text/plain": [
       "   Sentiment  Country  Account.Type  Engagement.Score  Gender  Impact  \\\n",
       "0          1      125             0          0.000000       2      50   \n",
       "1          0      125             0          1.033732       1      63   \n",
       "\n",
       "   Impressions  Kred.Influence  Kred.Outreach  Reach    ...      \\\n",
       "0          147             744              7    744    ...       \n",
       "1        16005             876              9   9959    ...       \n",
       "\n",
       "   links_twitter  links_youtube  links_facebook  links_instagram  links_other  \\\n",
       "0              0              0               0                0            0   \n",
       "1              0              0               0                0            0   \n",
       "\n",
       "   word_sex  word_good  word_woman  word_new  word_like  \n",
       "0         0          0           0         0          0  \n",
       "1         0          0           0         0          0  \n",
       "\n",
       "[2 rows x 39 columns]"
      ]
     },
     "execution_count": 29,
     "metadata": {},
     "output_type": "execute_result"
    }
   ],
   "source": [
    "df_ri.head(2)"
   ]
  },
  {
   "cell_type": "code",
   "execution_count": 31,
   "metadata": {},
   "outputs": [
    {
     "data": {
      "text/plain": [
       "(29142, 38)"
      ]
     },
     "execution_count": 31,
     "metadata": {},
     "output_type": "execute_result"
    }
   ],
   "source": [
    "df_ri=df_ri.drop(['id'],axis=1)\n",
    "df_ri.shape"
   ]
  },
  {
   "cell_type": "code",
   "execution_count": 32,
   "metadata": {},
   "outputs": [
    {
     "data": {
      "text/plain": [
       "(29142, 37)"
      ]
     },
     "execution_count": 32,
     "metadata": {},
     "output_type": "execute_result"
    }
   ],
   "source": [
    "# attribute and target selection\n",
    "x=df_ri.drop(['spam'],axis=1)\n",
    "X=x.values\n",
    "Y=df_ri['spam']\n",
    "X.shape\n",
    "\n"
   ]
  },
  {
   "cell_type": "code",
   "execution_count": 33,
   "metadata": {},
   "outputs": [],
   "source": [
    "X_train,X_test,Y_train,Y_test=train_test_split(X,Y, test_size=0.3, random_state=21)"
   ]
  },
  {
   "cell_type": "code",
   "execution_count": 34,
   "metadata": {},
   "outputs": [],
   "source": [
    "# dictionary of classifiers\n",
    "dict_classifiers = {\n",
    "    \"Logistic Regression\": LogisticRegression(),\n",
    "    \"Nearest Neighbors\": KNeighborsClassifier(),\n",
    "    \"Linear SVM\": SVC(),\n",
    "    \"Gradient Boosting Classifier\": GradientBoostingClassifier(n_estimators=1000),\n",
    "    \"Decision Tree\": tree.DecisionTreeClassifier(),\n",
    "    \"Random Forest\": RandomForestClassifier(n_estimators=1000),\n",
    "    \"Neural Net\": MLPClassifier(alpha = 1),\n",
    "    \"Naive Bayes\": GaussianNB()\n",
    "}"
   ]
  },
  {
   "cell_type": "code",
   "execution_count": 35,
   "metadata": {},
   "outputs": [
    {
     "name": "stdout",
     "output_type": "stream",
     "text": [
      " Results:Logistic Regression\n",
      " Accuracy Score in Training: 0.683\n",
      " Accuracy Score in Testing: 0.684\n",
      " Timetaken to Train: 1.013\n",
      " Trained Logistic Regression in 1.01 s \n",
      "\n",
      " Results:Nearest Neighbors\n",
      " Accuracy Score in Training: 0.748\n",
      " Accuracy Score in Testing: 0.630\n",
      " Timetaken to Train: 0.069\n",
      " Trained Nearest Neighbors in 0.07 s \n",
      "\n",
      " Results:Linear SVM\n",
      " Accuracy Score in Training: 0.997\n",
      " Accuracy Score in Testing: 0.543\n",
      " Timetaken to Train: 88.416\n",
      " Trained Linear SVM in 88.42 s \n",
      "\n",
      " Results:Gradient Boosting Classifier\n",
      " Accuracy Score in Training: 0.803\n",
      " Accuracy Score in Testing: 0.732\n",
      " Timetaken to Train: 35.513\n",
      " Trained Gradient Boosting Classifier in 35.51 s \n",
      "\n",
      " Results:Decision Tree\n",
      " Accuracy Score in Training: 1.000\n",
      " Accuracy Score in Testing: 0.664\n",
      " Timetaken to Train: 0.276\n",
      " Trained Decision Tree in 0.28 s \n",
      "\n",
      " Results:Random Forest\n",
      " Accuracy Score in Training: 1.000\n",
      " Accuracy Score in Testing: 0.750\n",
      " Timetaken to Train: 41.258\n",
      " Trained Random Forest in 41.26 s \n",
      "\n",
      " Results:Neural Net\n",
      " Accuracy Score in Training: 0.548\n",
      " Accuracy Score in Testing: 0.548\n",
      " Timetaken to Train: 2.827\n",
      " Trained Neural Net in 2.83 s \n",
      "\n",
      " Results:Naive Bayes\n",
      " Accuracy Score in Training: 0.608\n",
      " Accuracy Score in Testing: 0.601\n",
      " Timetaken to Train: 0.031\n",
      " Trained Naive Bayes in 0.03 s \n",
      "\n"
     ]
    }
   ],
   "source": [
    "# running all the classifiers in the list specified in dict_clasifiers above.\n",
    "\n",
    "for classifier_name, classifier in list(dict_classifiers.items()): # for loop through all the algorithms in the list\n",
    "   \n",
    "    time_start = time.clock() #  start time for training\n",
    "    \n",
    "    classifier.fit(X_train, Y_train) # fitting the model on the training set of explanatory and target variables\n",
    "    \n",
    "    time_end = time.clock()   # end time of the training.\n",
    "    \n",
    "    time_diff = time_end - time_start # time taken substact start and end time.\n",
    "    \n",
    "    train_score = classifier.score(X_train, Y_train) #accuracy of training and testing\n",
    "    test_score = classifier.score(X_test, Y_test)\n",
    "    \n",
    "    print(\" Results:{a}\\n Accuracy Score in Training: {b:.3f}\\n Accuracy Score in Testing: {c:.3f}\\n Timetaken to Train: {d:.3f}\". format(a=classifier_name, b=train_score, c=test_score,d=time_diff))\n",
    "    print(\" Trained {c} in {f:.2f} s \\n\".format(c=classifier_name, f=time_diff))"
   ]
  },
  {
   "cell_type": "code",
   "execution_count": 36,
   "metadata": {},
   "outputs": [],
   "source": [
    "# function for get the scores\n",
    "def print_score(classifier,X_train,Y_train,X_test,Y_test,train=True):\n",
    "    if train == True:\n",
    "        print(\"Training results:\\n\")\n",
    "        print('Accuracy Score: {0:.4f}\\n'.format(accuracy_score(Y_train,classifier.predict(X_train))))\n",
    "        print('Classification Report:\\n{}\\n'.format(classification_report(Y_train,classifier.predict(X_train))))\n",
    "        print('Confusion Matrix:\\n{}\\n'.format(confusion_matrix(Y_train,classifier.predict(X_train))))\n",
    "        print('Average Accuracy:\\t{0:.4f}\\n'.format(res.mean()))\n",
    "        print('Standard Deviation:\\t{0:.4f}'.format(res.std()))\n",
    "    elif train == False:\n",
    "        print(\"Test results:\\n\")\n",
    "        print('Accuracy Score: {0:.4f}\\n'.format(accuracy_score(Y_test,classifier.predict(X_test))))\n",
    "        print('Classification Report:\\n{}\\n'.format(classification_report(Y_test,classifier.predict(X_test))))\n",
    "        print('Confusion Matrix:\\n{}\\n'.format(confusion_matrix(Y_test,classifier.predict(X_test))))"
   ]
  },
  {
   "cell_type": "code",
   "execution_count": 37,
   "metadata": {},
   "outputs": [],
   "source": [
    "#dtc=DecisionTreeClassifier(random_state=21)\n",
    "#dtc.fit(X_train,Y_train)\n",
    "#Y_pred=dtc.predict(X_test)"
   ]
  },
  {
   "cell_type": "code",
   "execution_count": 38,
   "metadata": {},
   "outputs": [],
   "source": [
    "#GradientBoostingClassifier\n",
    "gbc=GradientBoostingClassifier()\n",
    "gbc.fit(X_train,Y_train)\n",
    "Y_pred=gbc.predict(X_test)"
   ]
  },
  {
   "cell_type": "code",
   "execution_count": 39,
   "metadata": {},
   "outputs": [],
   "source": [
    "#dot_data = export_graphviz(dtc, out_file=None, \n",
    "                         #feature_names=x.columns,  \n",
    "                         #filled=True, rounded=True,  \n",
    "                         #special_characters=True)  \n",
    "#graph = graphviz.Source(dot_data)  \n",
    "#graph \n",
    "#graph.render(\"realtive\")\n",
    "\n"
   ]
  },
  {
   "cell_type": "code",
   "execution_count": 40,
   "metadata": {},
   "outputs": [
    {
     "name": "stdout",
     "output_type": "stream",
     "text": [
      "Training results:\n",
      "\n",
      "Accuracy Score: 0.7372\n",
      "\n",
      "Classification Report:\n",
      "              precision    recall  f1-score   support\n",
      "\n",
      "           0       0.71      0.80      0.75     10177\n",
      "           1       0.77      0.67      0.72     10222\n",
      "\n",
      "   micro avg       0.74      0.74      0.74     20399\n",
      "   macro avg       0.74      0.74      0.74     20399\n",
      "weighted avg       0.74      0.74      0.74     20399\n",
      "\n",
      "\n",
      "Confusion Matrix:\n",
      "[[8141 2036]\n",
      " [3325 6897]]\n",
      "\n",
      "Average Accuracy:\t0.7231\n",
      "\n",
      "Standard Deviation:\t0.0073\n"
     ]
    }
   ],
   "source": [
    "print_score(gbc,X_train,Y_train,X_test,Y_test,train=True)"
   ]
  },
  {
   "cell_type": "code",
   "execution_count": 41,
   "metadata": {},
   "outputs": [
    {
     "name": "stdout",
     "output_type": "stream",
     "text": [
      "Test results:\n",
      "\n",
      "Accuracy Score: 0.7263\n",
      "\n",
      "Classification Report:\n",
      "              precision    recall  f1-score   support\n",
      "\n",
      "           0       0.70      0.79      0.74      4394\n",
      "           1       0.76      0.66      0.71      4349\n",
      "\n",
      "   micro avg       0.73      0.73      0.73      8743\n",
      "   macro avg       0.73      0.73      0.72      8743\n",
      "weighted avg       0.73      0.73      0.73      8743\n",
      "\n",
      "\n",
      "Confusion Matrix:\n",
      "[[3480  914]\n",
      " [1479 2870]]\n",
      "\n"
     ]
    }
   ],
   "source": [
    "print_score(gbc,X_train,Y_train,X_test,Y_test,train=False)"
   ]
  },
  {
   "cell_type": "code",
   "execution_count": 42,
   "metadata": {},
   "outputs": [
    {
     "data": {
      "image/png": "[encoded data removed]",
      "text/plain": [
       "<Figure size 432x288 with 1 Axes>"
      ]
     },
     "metadata": {
      "needs_background": "light"
     },
     "output_type": "display_data"
    }
   ],
   "source": [
    "cfm=confusion_matrix(Y_test, Y_pred)\n",
    "\n",
    "sns.heatmap(cfm, annot =True,  linewidths=.5, cbar =None)\n",
    "plt.title('Gradient Boosting Classifier confusion matrix')\n",
    "plt.ylabel('True label')\n",
    "plt.xlabel('Predicted label');"
   ]
  },
  {
   "cell_type": "code",
   "execution_count": 43,
   "metadata": {},
   "outputs": [
    {
     "data": {
      "image/png": "[encoded data removed]",
      "text/plain": [
       "<Figure size 720x1080 with 1 Axes>"
      ]
     },
     "metadata": {
      "needs_background": "light"
     },
     "output_type": "display_data"
    }
   ],
   "source": [
    "# feature importance\n",
    "fig, ax=plt.subplots(figsize=(10,15))\n",
    "features = x.columns\n",
    "importances = gbc.feature_importances_\n",
    "indices = np.argsort(importances)\n",
    "\n",
    "plt.title('Features Importance')\n",
    "plt.barh(range(len(indices)), importances[indices], color='purple', align='center')\n",
    "plt.yticks(range(len(indices)), [features[i] for i in indices])\n",
    "plt.xlabel('Relative Importance')\n",
    "plt.show() "
   ]
  },
  {
   "cell_type": "code",
   "execution_count": 44,
   "metadata": {},
   "outputs": [
    {
     "data": {
      "text/plain": [
       "(0, 40)"
      ]
     },
     "execution_count": 44,
     "metadata": {},
     "output_type": "execute_result"
    },
    {
     "data": {
      "image/png": "[encoded data removed]",
      "text/plain": [
       "<Figure size 432x288 with 1 Axes>"
      ]
     },
     "metadata": {
      "needs_background": "light"
     },
     "output_type": "display_data"
    }
   ],
   "source": [
    "# principal component analysis\n",
    "pca=PCA().fit(X_train)\n",
    "plt.plot(np.cumsum(pca.explained_variance_ratio_))\n",
    "plt.xlabel('number of components')\n",
    "plt.ylabel('cumulative explained variance')\n",
    "plt.xlim(0,40,0.5)"
   ]
  },
  {
   "cell_type": "code",
   "execution_count": 45,
   "metadata": {},
   "outputs": [
    {
     "data": {
      "text/plain": [
       "(20399, 5)"
      ]
     },
     "execution_count": 45,
     "metadata": {},
     "output_type": "execute_result"
    }
   ],
   "source": [
    "pca=PCA(n_components=5)\n",
    "pca.fit(X_train)\n",
    "X_train_pca=pca.transform(X_train)\n",
    "X_test_pca=pca.transform(X_test)\n",
    "X_train_pca.shape"
   ]
  },
  {
   "cell_type": "code",
   "execution_count": 46,
   "metadata": {},
   "outputs": [],
   "source": [
    "gbc=GradientBoostingClassifier()\n",
    "gbc.fit(X_train_pca, Y_train)\n",
    "Y_pred=gbc.predict(X_test_pca)\n",
    "\n",
    "\n"
   ]
  },
  {
   "cell_type": "code",
   "execution_count": 47,
   "metadata": {},
   "outputs": [
    {
     "name": "stdout",
     "output_type": "stream",
     "text": [
      "Training results:\n",
      "\n",
      "Accuracy Score: 0.6752\n",
      "\n",
      "Classification Report:\n",
      "              precision    recall  f1-score   support\n",
      "\n",
      "           0       0.65      0.74      0.70     10177\n",
      "           1       0.70      0.61      0.65     10222\n",
      "\n",
      "   micro avg       0.68      0.68      0.68     20399\n",
      "   macro avg       0.68      0.68      0.67     20399\n",
      "weighted avg       0.68      0.68      0.67     20399\n",
      "\n",
      "\n",
      "Confusion Matrix:\n",
      "[[7580 2597]\n",
      " [4028 6194]]\n",
      "\n",
      "Average Accuracy:\t0.6608\n",
      "\n",
      "Standard Deviation:\t0.0064\n"
     ]
    }
   ],
   "source": [
    "print_score(gbc,X_train_pca,Y_train,X_test_pca,Y_test,train=True)"
   ]
  },
  {
   "cell_type": "code",
   "execution_count": 48,
   "metadata": {},
   "outputs": [
    {
     "name": "stdout",
     "output_type": "stream",
     "text": [
      "Test results:\n",
      "\n",
      "Accuracy Score: 0.6533\n",
      "\n",
      "Classification Report:\n",
      "              precision    recall  f1-score   support\n",
      "\n",
      "           0       0.64      0.72      0.68      4394\n",
      "           1       0.68      0.58      0.63      4349\n",
      "\n",
      "   micro avg       0.65      0.65      0.65      8743\n",
      "   macro avg       0.66      0.65      0.65      8743\n",
      "weighted avg       0.66      0.65      0.65      8743\n",
      "\n",
      "\n",
      "Confusion Matrix:\n",
      "[[3181 1213]\n",
      " [1818 2531]]\n",
      "\n"
     ]
    }
   ],
   "source": [
    "print_score(gbc,X_train_pca,Y_train,X_test_pca,Y_test,train=False)"
   ]
  },
  {
   "cell_type": "code",
   "execution_count": 49,
   "metadata": {},
   "outputs": [
    {
     "data": {
      "image/png": "[encoded data removed]",
      "text/plain": [
       "<Figure size 432x288 with 1 Axes>"
      ]
     },
     "metadata": {
      "needs_background": "light"
     },
     "output_type": "display_data"
    }
   ],
   "source": [
    "cfm=confusion_matrix(Y_test, Y_pred)\n",
    "\n",
    "sns.heatmap(cfm, annot = True,  linewidths=.5, cbar =None)\n",
    "plt.title('Gradient Boosting classifier confusion matrix')\n",
    "plt.ylabel('True label')\n",
    "plt.xlabel('Predicted label');"
   ]
  },
  {
   "cell_type": "code",
   "execution_count": 50,
   "metadata": {},
   "outputs": [
    {
     "data": {
      "image/png": "[encoded data removed]",
      "text/plain": [
       "<Figure size 432x288 with 1 Axes>"
      ]
     },
     "metadata": {
      "needs_background": "light"
     },
     "output_type": "display_data"
    }
   ],
   "source": [
    "precision, recall, thresholds = precision_recall_curve(Y_test, Y_pred)\n",
    "area = auc(recall, precision)\n",
    "plt.figure()\n",
    "plt.plot(recall, precision, label = 'Area Under Curve = %0.3f'% area)\n",
    "plt.legend(loc = 'lower left')\n",
    "plt.title('Precision-Recall curve')\n",
    "plt.xlabel('Recall')\n",
    "plt.ylabel('Precision')\n",
    "plt.ylim([-0.1, 1.1])\n",
    "plt.xlim([-0.1, 1.1])\n",
    "plt.show()"
   ]
  },
  {
   "cell_type": "code",
   "execution_count": 51,
   "metadata": {},
   "outputs": [
    {
     "data": {
      "image/png": "[encoded data removed]",
      "text/plain": [
       "<Figure size 432x288 with 1 Axes>"
      ]
     },
     "metadata": {
      "needs_background": "light"
     },
     "output_type": "display_data"
    }
   ],
   "source": [
    "def roc_curve_acc(Y_test, Y_pred,method):\n",
    "    false_positive_rate, true_positive_rate, thresholds = roc_curve(Y_test, Y_pred)\n",
    "    roc_auc = auc(false_positive_rate, true_positive_rate)\n",
    "    plt.title('Receiver Operating Characteristic')\n",
    "    plt.plot(false_positive_rate, true_positive_rate, color='darkorange',label='%s AUC = %0.3f'%(method, roc_auc))\n",
    "    plt.legend(loc='lower right')\n",
    "    plt.plot([0,1],[0,1],'b--')\n",
    "    plt.ylim([-0.1, 1.1])\n",
    "    plt.xlim([-0.1, 1.1])\n",
    "    plt.ylabel('True Positive Rate')\n",
    "    plt.xlabel('False Positive Rate')\n",
    "\n",
    "roc_curve_acc(Y_test, Y_pred, \"Gradient boosting Classifier\")"
   ]
  },
  {
   "cell_type": "code",
   "execution_count": 52,
   "metadata": {},
   "outputs": [
    {
     "data": {
      "image/png": "[encoded data removed]",
      "text/plain": [
       "<Figure size 360x432 with 1 Axes>"
      ]
     },
     "metadata": {
      "needs_background": "light"
     },
     "output_type": "display_data"
    }
   ],
   "source": [
    "fig, ax=plt.subplots(figsize=(5,6))\n",
    "features = x.columns\n",
    "importances = gbc.feature_importances_\n",
    "indices = np.argsort(importances)\n",
    "\n",
    "plt.title('Features Importance')\n",
    "plt.barh(range(len(indices)), importances[indices], color='purple', align='center')\n",
    "plt.yticks(range(len(indices)), [features[i] for i in indices])\n",
    "plt.xlabel('Relative Importance')\n",
    "plt.show() "
   ]
  }
 ],
 "metadata": {
  "kernelspec": {
   "display_name": "Python 3",
   "language": "python",
   "name": "python3"
  },
  "language_info": {
   "codemirror_mode": {
    "name": "ipython",
    "version": 3
   },
   "file_extension": ".py",
   "mimetype": "text/x-python",
   "name": "python",
   "nbconvert_exporter": "python",
   "pygments_lexer": "ipython3",
   "version": "3.7.0"
  }
 },
 "nbformat": 4,
 "nbformat_minor": 2
}
